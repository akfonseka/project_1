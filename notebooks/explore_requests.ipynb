{
 "cells": [
  {
   "cell_type": "code",
   "execution_count": 1,
   "metadata": {},
   "outputs": [
    {
     "name": "stdout",
     "output_type": "stream",
     "text": [
      "Intel MKL WARNING: Support of Intel(R) Streaming SIMD Extensions 4.2 (Intel(R) SSE4.2) enabled only processors has been deprecated. Intel oneAPI Math Kernel Library 2025.0 will require Intel(R) Advanced Vector Extensions (Intel(R) AVX) instructions.\n",
      "Intel MKL WARNING: Support of Intel(R) Streaming SIMD Extensions 4.2 (Intel(R) SSE4.2) enabled only processors has been deprecated. Intel oneAPI Math Kernel Library 2025.0 will require Intel(R) Advanced Vector Extensions (Intel(R) AVX) instructions.\n"
     ]
    }
   ],
   "source": [
    "import requests\n",
    "import pandas as pd\n",
    "from google.cloud import storage\n",
    "from io import StringIO\n",
    "from config_variables import var_credentials_location, var_gcs_connector, var_gcs_bronze_bucket"
   ]
  },
  {
   "cell_type": "markdown",
   "metadata": {},
   "source": [
    "Creating Test URL"
   ]
  },
  {
   "cell_type": "code",
   "execution_count": 2,
   "metadata": {},
   "outputs": [],
   "source": [
    "base_url = r\"https://cycling.data.tfl.gov.uk/ActiveTravelCountsProgramme/1-Strategic%20counts%20(CIO)\"\n",
    "\n",
    "# 2015-Central.csv\n",
    "year = 2015\n",
    "area = \"Central\"\n",
    "\n",
    "url = f'{base_url}/{year}-{area}.csv'"
   ]
  },
  {
   "cell_type": "code",
   "execution_count": 3,
   "metadata": {},
   "outputs": [],
   "source": [
    "# Making GET request to download the CSV file\n",
    "response = requests.get(url)"
   ]
  },
  {
   "cell_type": "code",
   "execution_count": 4,
   "metadata": {},
   "outputs": [
    {
     "name": "stdout",
     "output_type": "stream",
     "text": [
      "Success\n"
     ]
    },
    {
     "data": {
      "text/html": [
       "<div>\n",
       "<style scoped>\n",
       "    .dataframe tbody tr th:only-of-type {\n",
       "        vertical-align: middle;\n",
       "    }\n",
       "\n",
       "    .dataframe tbody tr th {\n",
       "        vertical-align: top;\n",
       "    }\n",
       "\n",
       "    .dataframe thead th {\n",
       "        text-align: right;\n",
       "    }\n",
       "</style>\n",
       "<table border=\"1\" class=\"dataframe\">\n",
       "  <thead>\n",
       "    <tr style=\"text-align: right;\">\n",
       "      <th></th>\n",
       "      <th>Year</th>\n",
       "      <th>UnqID</th>\n",
       "      <th>Date</th>\n",
       "      <th>Weather</th>\n",
       "      <th>Time</th>\n",
       "      <th>Day</th>\n",
       "      <th>Round</th>\n",
       "      <th>Dir</th>\n",
       "      <th>Path</th>\n",
       "      <th>Mode</th>\n",
       "      <th>Count</th>\n",
       "    </tr>\n",
       "  </thead>\n",
       "  <tbody>\n",
       "    <tr>\n",
       "      <th>0</th>\n",
       "      <td>2015</td>\n",
       "      <td>CENCY001</td>\n",
       "      <td>04/06/2015</td>\n",
       "      <td>Dry</td>\n",
       "      <td>06:00:00</td>\n",
       "      <td>Weekday</td>\n",
       "      <td>A</td>\n",
       "      <td>Northbound</td>\n",
       "      <td>NaN</td>\n",
       "      <td>Private cycles</td>\n",
       "      <td>3</td>\n",
       "    </tr>\n",
       "    <tr>\n",
       "      <th>1</th>\n",
       "      <td>2015</td>\n",
       "      <td>CENCY001</td>\n",
       "      <td>04/06/2015</td>\n",
       "      <td>Dry</td>\n",
       "      <td>06:15:00</td>\n",
       "      <td>Weekday</td>\n",
       "      <td>A</td>\n",
       "      <td>Northbound</td>\n",
       "      <td>NaN</td>\n",
       "      <td>Private cycles</td>\n",
       "      <td>10</td>\n",
       "    </tr>\n",
       "    <tr>\n",
       "      <th>2</th>\n",
       "      <td>2015</td>\n",
       "      <td>CENCY001</td>\n",
       "      <td>04/06/2015</td>\n",
       "      <td>Dry</td>\n",
       "      <td>06:30:00</td>\n",
       "      <td>Weekday</td>\n",
       "      <td>A</td>\n",
       "      <td>Northbound</td>\n",
       "      <td>NaN</td>\n",
       "      <td>Private cycles</td>\n",
       "      <td>18</td>\n",
       "    </tr>\n",
       "    <tr>\n",
       "      <th>3</th>\n",
       "      <td>2015</td>\n",
       "      <td>CENCY001</td>\n",
       "      <td>04/06/2015</td>\n",
       "      <td>Dry</td>\n",
       "      <td>06:45:00</td>\n",
       "      <td>Weekday</td>\n",
       "      <td>A</td>\n",
       "      <td>Northbound</td>\n",
       "      <td>NaN</td>\n",
       "      <td>Private cycles</td>\n",
       "      <td>39</td>\n",
       "    </tr>\n",
       "    <tr>\n",
       "      <th>4</th>\n",
       "      <td>2015</td>\n",
       "      <td>CENCY001</td>\n",
       "      <td>04/06/2015</td>\n",
       "      <td>Dry</td>\n",
       "      <td>07:00:00</td>\n",
       "      <td>Weekday</td>\n",
       "      <td>A</td>\n",
       "      <td>Northbound</td>\n",
       "      <td>NaN</td>\n",
       "      <td>Private cycles</td>\n",
       "      <td>65</td>\n",
       "    </tr>\n",
       "  </tbody>\n",
       "</table>\n",
       "</div>"
      ],
      "text/plain": [
       "   Year     UnqID        Date Weather      Time      Day Round         Dir  \\\n",
       "0  2015  CENCY001  04/06/2015     Dry  06:00:00  Weekday     A  Northbound   \n",
       "1  2015  CENCY001  04/06/2015     Dry  06:15:00  Weekday     A  Northbound   \n",
       "2  2015  CENCY001  04/06/2015     Dry  06:30:00  Weekday     A  Northbound   \n",
       "3  2015  CENCY001  04/06/2015     Dry  06:45:00  Weekday     A  Northbound   \n",
       "4  2015  CENCY001  04/06/2015     Dry  07:00:00  Weekday     A  Northbound   \n",
       "\n",
       "   Path            Mode  Count  \n",
       "0   NaN  Private cycles      3  \n",
       "1   NaN  Private cycles     10  \n",
       "2   NaN  Private cycles     18  \n",
       "3   NaN  Private cycles     39  \n",
       "4   NaN  Private cycles     65  "
      ]
     },
     "execution_count": 4,
     "metadata": {},
     "output_type": "execute_result"
    }
   ],
   "source": [
    "# Check if the request was successful\n",
    "if response.status_code == 200:\n",
    "    print(\"Success\")\n",
    "\n",
    "df = pd.read_csv(StringIO(response.text))\n",
    "df.head()"
   ]
  },
  {
   "cell_type": "code",
   "execution_count": 43,
   "metadata": {},
   "outputs": [],
   "source": [
    "def upload_to_gcs(credentials_location: str, bucket: str, object_name: str, df_data: pd.DataFrame, file_name:str) -> None:\n",
    "    ''' \n",
    "    Function to upload data from local DataFrame to Google Cloud Storage\n",
    "    '''\n",
    "\n",
    "    df_data.to_csv(file_name, index=False, header=True)\n",
    "\n",
    "    storage_client = storage.Client.from_service_account_json(credentials_location)\n",
    "    gc_bucket = storage_client.bucket(bucket)\n",
    "    blob = gc_bucket.blob(object_name)\n",
    "    blob.upload_from_string(df_data.to_csv(index=False, header=True), content_type='text/csv')\n",
    "    \n",
    "    return None\n"
   ]
  },
  {
   "cell_type": "code",
   "execution_count": 44,
   "metadata": {},
   "outputs": [],
   "source": [
    "def web_to_df(year: int, area: str) -> pd.DataFrame:\n",
    "    '''\n",
    "    Function to take data from online data source and upload to GCS\n",
    "    '''\n",
    "\n",
    "    url = f'{base_url}/{year}-{area}.csv'\n",
    "\n",
    "    response = requests.get(url)\n",
    "    \n",
    "    df = pd.read_csv(StringIO(response.text))    \n",
    "    \n",
    "    return df\n"
   ]
  },
  {
   "cell_type": "code",
   "execution_count": 45,
   "metadata": {},
   "outputs": [],
   "source": [
    "test_df = web_to_df(2015, 'Central')\n",
    "\n",
    "test_df.head()\n",
    "\n",
    "test_df.to_csv(\"test.csv\", index=False, header=True)"
   ]
  },
  {
   "cell_type": "code",
   "execution_count": 46,
   "metadata": {},
   "outputs": [],
   "source": [
    "upload_to_gcs(var_credentials_location, var_gcs_bronze_bucket, \"test/test1\", test_df, \"test.csv\")"
   ]
  },
  {
   "cell_type": "code",
   "execution_count": 47,
   "metadata": {},
   "outputs": [
    {
     "name": "stdout",
     "output_type": "stream",
     "text": [
      "Jeff\n"
     ]
    }
   ],
   "source": [
    "print(\"Jeff\")"
   ]
  },
  {
   "cell_type": "code",
   "execution_count": null,
   "metadata": {},
   "outputs": [],
   "source": []
  }
 ],
 "metadata": {
  "kernelspec": {
   "display_name": "Python 3",
   "language": "python",
   "name": "python3"
  },
  "language_info": {
   "codemirror_mode": {
    "name": "ipython",
    "version": 3
   },
   "file_extension": ".py",
   "mimetype": "text/x-python",
   "name": "python",
   "nbconvert_exporter": "python",
   "pygments_lexer": "ipython3",
   "version": "3.10.12"
  },
  "orig_nbformat": 4
 },
 "nbformat": 4,
 "nbformat_minor": 2
}
